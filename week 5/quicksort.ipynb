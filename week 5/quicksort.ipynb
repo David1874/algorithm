
{
 "cells": [
  {
   "cell_type": "code",
   "execution_count": 1,
   "metadata": {},
   "outputs": [],
   "source": [
    "def qsort(list):\n",
    "    mini=[]\n",
    "    mid=[]\n",
    "    big=[]\n",
    "    if len(list)<=1:\n",
    "        return list\n",
    "    else:\n",
    "        pivot=list[0]\n",
    "        for i in list:\n",
    "            if i < pivot:\n",
    "                mini.append(i)\n",
    "            elif i > pivot:\n",
    "                big.append(i)\n",
    "            else:\n",
    "                mid.append(i)\n",
    "        return qsort(mini)+mid+qsort(big)"
   ]
  },
  {
   "cell_type": "code",
   "execution_count": 2,
   "metadata": {},
   "outputs": [],
   "source": [
    "list=[10,7,4,9,1,5]"
   ]
  },
  {
   "cell_type": "code",
   "execution_count": 3,
   "metadata": {},
   "outputs": [
    {
     "data": {
      "text/plain": [
       "[1, 4, 5, 7, 9, 10]"
      ]
     },
     "execution_count": 3,
     "metadata": {},
     "output_type": "execute_result"
    }
   ],
   "source": [
    "qsort(list)"
   ]
  },
  {
   "cell_type": "code",
   "execution_count": null,
   "metadata": {},
   "outputs": [],
   "source": []
  }
 ],
 "metadata": {
  "kernelspec": {
   "display_name": "Python 3",
   "language": "python",
   "name": "python3"
  },
  "language_info": {
   "codemirror_mode": {
    "name": "ipython",
    "version": 3
   },
   "file_extension": ".py",
   "mimetype": "text/x-python",
   "name": "python",
   "nbconvert_exporter": "python",
   "pygments_lexer": "ipython3",
   "version": "3.7.4"
  }
 },
 "nbformat": 4,
 "nbformat_minor": 2
}
